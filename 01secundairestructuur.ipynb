{
 "cells": [
  {
   "cell_type": "markdown",
   "metadata": {},
   "source": [
    "# Eiwitten beter begrijpen met kansberekening"
   ]
  },
  {
   "cell_type": "code",
   "execution_count": null,
   "metadata": {},
   "outputs": [],
   "source": [
    "#from sys import path\n",
    "#path.append(\"/../code/\")\n",
    "from projectcode.secundairestructuur import plot_glijdend_venster\n",
    "\n",
    "# onderstaande regel zorgt dat de figuren in de notebook komen te staan\n",
    "%matplotlib inline "
   ]
  },
  {
   "cell_type": "markdown",
   "metadata": {},
   "source": [
    "> 1. Eerst experimenteer met de grootte van het venster, de paramter $k$, welke invloed heeft die als die groter wordt? Wat wil $k=1$ zeggen?\n",
    "> 2. Verhoog en verlaag je threshold? Welke invloed heeft dit op je verschillende fouten?\n",
    ">     - Kan je het aantal valse positieven (niet-$\\beta$-platen die als $\\beta$-plaat voorspeld worden) zo laag mogelijk krijgen?\n",
    ">     - Hoe zorg je er voor dat je geen enkele $\\beta$-plaat mist? Wat is het nadeel hiervan? "
   ]
  },
  {
   "cell_type": "code",
   "execution_count": null,
   "metadata": {
    "scrolled": false
   },
   "outputs": [],
   "source": [
    "from ipywidgets import interact_manual, IntSlider, FloatSlider\n",
    "interact_manual(plot_glijdend_venster,\n",
    "            threshold=FloatSlider(min=0.1, max=2, step=0.1, value=0.50), k=IntSlider(min=1, max=55, step=2, value=5))"
   ]
  },
  {
   "cell_type": "code",
   "execution_count": null,
   "metadata": {},
   "outputs": [],
   "source": []
  }
 ],
 "metadata": {
  "kernelspec": {
   "display_name": "Python 3",
   "language": "python",
   "name": "python3"
  },
  "language_info": {
   "codemirror_mode": {
    "name": "ipython",
    "version": 3
   },
   "file_extension": ".py",
   "mimetype": "text/x-python",
   "name": "python",
   "nbconvert_exporter": "python",
   "pygments_lexer": "ipython3",
   "version": "3.6.5"
  }
 },
 "nbformat": 4,
 "nbformat_minor": 2
}
