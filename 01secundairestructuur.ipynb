{
 "cells": [
  {
   "cell_type": "markdown",
   "metadata": {},
   "source": [
    "# Eiwitten beter begrijpen met kansberekening"
   ]
  },
  {
   "cell_type": "markdown",
   "metadata": {},
   "source": [
    "Onderstaande twee cellen genereren een interactieve plot die de glijdendevenster methode illustreert.\n",
    "\n",
    "Experimenteer hiermee en tracht te bepalen\n",
    "\n",
    "- hoe de drempelwaarde een invloed heeft op de fouten die het model maakt;\n",
    "- hoe de grootte van het glijdend venster een de vorm van de curve bepaalt."
   ]
  },
  {
   "cell_type": "code",
   "execution_count": null,
   "metadata": {},
   "outputs": [],
   "source": [
    "#from sys import path\n",
    "#path.append(\"/../code/\")\n",
    "from projectcode.secundairestructuur import plot_glijdend_venster\n",
    "\n",
    "# onderstaande regel zorgt dat de figuren in de notebook komen te staan\n",
    "%matplotlib inline "
   ]
  },
  {
   "cell_type": "markdown",
   "metadata": {},
   "source": [
    "> 1. Eerst experimenteer met de grootte van het venster, de paramter $k$, welke invloed heeft die als die groter wordt? Wat wil $k=1$ zeggen?\n",
    "> 2. Verhoog en verlaag je threshold? Welke invloed heeft dit op je verschillende fouten?\n",
    ">     - Kan je het aantal valse positieven (niet-$\\beta$-platen die als $\\beta$-plaat voorspeld worden) zo laag mogelijk krijgen?\n",
    ">     - Hoe zorg je er voor dat je geen enkele $\\beta$-plaat mist? Wat is het nadeel hiervan? "
   ]
  },
  {
   "cell_type": "code",
   "execution_count": null,
   "metadata": {
    "scrolled": false
   },
   "outputs": [],
   "source": [
    "from ipywidgets import interact_manual, IntSlider, FloatSlider\n",
    "interact_manual(plot_glijdend_venster,\n",
    "            threshold=FloatSlider(min=0.1, max=2, step=0.1, value=0.50), k=IntSlider(min=1, max=55, step=2, value=1\n",
    "                                                                                    ))"
   ]
  },
  {
   "cell_type": "markdown",
   "metadata": {},
   "source": [
    "## Naive Bayes programmeren\n",
    "\n",
    "We illustreren hier hoe de kansen op de computer berekend kunnen worden in de programmeertaal Python."
   ]
  },
  {
   "cell_type": "code",
   "execution_count": null,
   "metadata": {},
   "outputs": [],
   "source": [
    "# volledige eiwitsequentie\n",
    "P22eiwit = \"MTDITANVVVSNPRPIFTESRSFKAVANGKIYIGQIDTDPVNPANQIPVYIENEDGSHVQITQPLIINAAGKIVYNGQLVKIVTVQGHSMAIYDANGSQVDYIANVLKYDPDQYSIEADKKFKYSVKLSDYPTLQDAASAAVDGLLIDRDYNFYGGETVDFGGKVLTIECKAKFIGDGNLIFTKLGKGSRIAGVFMESTTTPWVIKPWTDDNQWLTDAAAVVATLKQSKTDGYQPTVSDYVKFPGIETLLPPNAKGQNITSTLEIRECIGVEVHRASGLMAGFLFRGCHFCKMVDANNPSGGKDGIITFENLSGDWGKGNYVIGGRTSYGSVSSAQFLRNNGGFERDGGVIGFTSYRAGESGVKTWQGTVGSTTSRNYNLQFRDSVVIYPVWDGFDLGADTDMNPELDRPGDYPITQYPLHQLPLNHLIDNLLVRGALGVGFGMDGKGMYVSNITVEDCAGSGAYLLTHESVFTNIAIIDTNTKDFQANQIYISGACRVNGLRLIGIRSTDGQGLTIDAPNSTVSGITGMVDPSRINVANLAEEGLGNIRANSFGYDSAAIKLRIHKLSKTLDSGALYSHINGGAGSGSAYTQLTAISGSTPDAVSLKVNHKDCRGAEIPFVPDIASDDFIKDSSCFLPYWENNSTSLKALVKKPNGELVRLTLATL\"\n",
    "\n",
    "# voorbeelden van sequenties van beta-platen\n",
    "beta_platen = [\"SRSF\", \"KIYIGQ\", \"VYIE\", \"HVQI\", \"QPLII\", \"IVY\", \"IVTVQ\",\n",
    "                \"SMAIY\", \"QVDYIA\", \"SVK\", \"YPT\", \"VDGLLI\", \"TVD\", \"TIEC\",\n",
    "                \"AKFI\", \"DGNLIFT\", \"RIAG\", \"FME\", \"WVI\", \"KTDGY\", \"STLEIRE\",\n",
    "                \"EVHR\", \"SGLMAGFLFRG\", \"KMVD\", \"NNPSG\", \"IITFE\", \"LSGD\", \"YVIG\",\n",
    "                 \"RTSY\", \"SAQFLRNN\", \"GVIG\", \"TSYR\", \"GVKT\", \"GTV\", \"NYN\",\n",
    "                 \"QFRDSVVIY\", \"GFDL\", \"DMN\", \"LIDNLLVR\", \"LGVGFGMDGKG\",\n",
    "                 \"YVSNITVED\", \"AGSGAYLLTHE\", \"VFTNIAIID\", \"QIYI\", \"RVNGLRL\",\n",
    "                 \"TIDAPNSTVSGITG\", \"INVANL\", \"NIRANS\", \"GYDSAAIKL\", \"KTL\",\n",
    "                 \"SGALYSHI\", \"AYTQLTAIS\", \"TPDAVSLKVN\", \"GAE\", \"VPD\",\n",
    "                 \"DSSCFLPYWE\", \"SLKALVK\", \"LVRLTLA\"]"
   ]
  },
  {
   "cell_type": "markdown",
   "metadata": {},
   "source": [
    "Via de geavanceerde datastructuur `Counter` kunnen we makkelijk de frequenties van de verschillende aminozuren bepalen."
   ]
  },
  {
   "cell_type": "code",
   "execution_count": null,
   "metadata": {},
   "outputs": [],
   "source": [
    "from collections import Counter\n",
    "\n",
    "freq_az_P22 = Counter(P22eiwit)\n",
    "\n",
    "for AZ, freq in freq_az_P22.items():\n",
    "    print(AZ, \" : \", freq)"
   ]
  },
  {
   "cell_type": "markdown",
   "metadata": {},
   "source": [
    "Ditto voor de $\\beta$-platen:"
   ]
  },
  {
   "cell_type": "code",
   "execution_count": null,
   "metadata": {},
   "outputs": [],
   "source": [
    "freq_az_betaplaten = Counter()  # initieer een counter object\n",
    "\n",
    "for betaplaat in beta_platen:\n",
    "    # voeg de individuele platen toe\n",
    "    freq_az_betaplaten.update(betaplaat)\n",
    "\n",
    "# kijk voor aminozuur P (proline)\n",
    "print(\"P :\", freq_az_betaplaten[\"P\"])"
   ]
  },
  {
   "cell_type": "markdown",
   "metadata": {},
   "source": [
    "> **Optionele programmmeeropdracht**: bereken met de computer de kansverhoudingen zoals je op papier gedaan hebt. Bereken de kans dat peptide 'YSIEADKK' een $\\beta$-plaat is volgens de Naive bayes methode."
   ]
  },
  {
   "cell_type": "code",
   "execution_count": null,
   "metadata": {},
   "outputs": [],
   "source": []
  }
 ],
 "metadata": {
  "kernelspec": {
   "display_name": "Python 3",
   "language": "python",
   "name": "python3"
  },
  "language_info": {
   "codemirror_mode": {
    "name": "ipython",
    "version": 3
   },
   "file_extension": ".py",
   "mimetype": "text/x-python",
   "name": "python",
   "nbconvert_exporter": "python",
   "pygments_lexer": "ipython3",
   "version": "3.6.5"
  }
 },
 "nbformat": 4,
 "nbformat_minor": 2
}
