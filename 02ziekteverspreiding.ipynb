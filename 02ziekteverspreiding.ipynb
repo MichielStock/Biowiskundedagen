{
 "cells": [
  {
   "cell_type": "markdown",
   "metadata": {},
   "source": [
    "# Verspreiding van ziektes doorheen sociale netwerken"
   ]
  },
  {
   "cell_type": "markdown",
   "metadata": {},
   "source": [
    "## Animaties SIR model op een netwerk\n",
    "\n",
    "### SIR model zonder resistentie\n",
    "\n",
    "![](figuren/SIRanim0.gif)\n",
    "\n",
    "### SIR model met 20% resistent\n",
    "\n",
    "![](figuren/SIRanim0.2.gif)\n",
    "\n",
    "### SIR model met 60% resistent\n",
    "\n",
    "![](figuren/SIRanim0.6.gif)\n",
    "\n",
    "### SIR model met 80% resistent\n",
    "\n",
    "![](figuren/SIRanim0.8.gif)"
   ]
  },
  {
   "cell_type": "markdown",
   "metadata": {},
   "source": [
    "## Simulatie van SIR op een netwerk\n",
    "\n",
    "> **Computeroefening**: Via de interactieve widget kan je een netwerk van een bepaalde grootte genereren met 1 tot 10 geïnfecteerde personen (deze knopen zijn donkerblauw ingekleurd). Het netwerk dat verschijnt is na 10 tijdstappen. Ernaast zijn de fracties van de knopen in een bepaalde toestand geplot.\n",
    ">\n",
    "> - **zonder vaccinatie**: `frac_vac=0`\n",
    ">\n",
    ">   1. Hoeveel tijdstappen zijn er nodig voordat iedereen geïnfecteerd is?\n",
    ">   2. Is er een verschil tussen hoe snel de ziekte zich verspreidt in een willekeurig of een shcaalvrij netwerk?\n",
    "> - **met vaccinatie**: `frac_vac>0`, er is keuze tussen een bepaalde fractie individuen willekeurig te vaccinatie of de fractie meest geconnecteerde individuen te vaccineren.\n",
    ">   1. Bekijk het effect van willekeurig vaccineren. Vanaf welke fractie worden ook vatbare individuen beschermd?\n",
    ">   2. Wat is het verschil met gerichte vaccinatie?\n"
   ]
  },
  {
   "cell_type": "code",
   "execution_count": null,
   "metadata": {},
   "outputs": [],
   "source": [
    "from projectcode.ziekteverspreiding import simuleer_uitbraak\n",
    "from ipywidgets import interact_manual, IntSlider, FloatSlider \n",
    "# onderstaande regel zorgt dat de figuren in de notebook komen te staan\n",
    "%matplotlib inline "
   ]
  },
  {
   "cell_type": "code",
   "execution_count": null,
   "metadata": {},
   "outputs": [],
   "source": [
    "interact_manual(simuleer_uitbraak,\n",
    "                n=IntSlider(min=15, max=1000, step=5, value=15),\n",
    "                initgeinf=IntSlider(min=1, max=10, step=1, value=1),\n",
    "                netwerk=[\"willekeurig\", \"schaalvrij\"],\n",
    "                fractie_gevac=FloatSlider(min=0, max=0.9, step=0.05, value=0),\n",
    "                strategie=[\"willekeurig\", \"best connecteerd\"]\n",
    "               )"
   ]
  },
  {
   "cell_type": "markdown",
   "metadata": {},
   "source": [
    "## Simuleren van een het SIR-model op een netwerk\n",
    "\n",
    "Zoals eerder gezegd kunnen we via de verbindingsmatrix $A$ een netwerk voorstellen. We kunnen een toestandsvector $\\mathbf{x}$ voorstellen als een lijst met voor elke persoon één van de mogelijke toestanden ($S$, $I$ of $R$)."
   ]
  },
  {
   "cell_type": "code",
   "execution_count": null,
   "metadata": {},
   "outputs": [],
   "source": [
    "# een matrix is een geneste lijst\n",
    "# kan je de graaf hiervan tekenen?\n",
    "\n",
    "A = [[0, 1, 1, 0, 0, 0],\n",
    "     [1, 0, 1, 0, 1, 0],\n",
    "     [1, 1, 0, 0, 1, 0],\n",
    "     [0, 0, 0, 0, 1, 1],\n",
    "     [0, 0, 1, 1, 0, 0],\n",
    "     [0, 0, 0, 1, 0, 0]]\n",
    "\n",
    "# toestandsvector met 1 persoon geïnfecteerd\n",
    "x0 = [\"I\", \"S\", \"S\", \"S\", \"S\", \"S\"]"
   ]
  },
  {
   "cell_type": "markdown",
   "metadata": {},
   "source": [
    "We maken ook een functie die, gegeven de verbindingsmatrix en een oude toestandsvector, een nieuwe toestandsvector genereert."
   ]
  },
  {
   "cell_type": "code",
   "execution_count": null,
   "metadata": {},
   "outputs": [],
   "source": [
    "def update(A, x_oud):\n",
    "    \"\"\"Gegeven de verbindingsmatrix en de lijst met de toestanden,\n",
    "    bereken de nieuwe toestand.\n",
    "    \"\"\"\n",
    "    x_nieuw = []\n",
    "    n = len(x_oud)  # aantal elementen in x\n",
    "    for i in range(n):\n",
    "        if x_oud[i] == \"I\":\n",
    "            toestand = \"I\"  # regel 3\n",
    "        elif x_oud[i] == \"S\":\n",
    "            toestand = \"S\"\n",
    "            for j in range(n):  # overloop alle geconnecteerde knopen\n",
    "                if A[i][j] == 1 and x_oud[j] == \"I\":  # connectie die geïnfecteerd is\n",
    "                    toestand = \"I\"  # regel 2\n",
    "        # voeg hier regel 4 toe voor R\n",
    "        x_nieuw.append(toestand)  # voeg de nieuwe toestand toe\n",
    "    return x_nieuw"
   ]
  },
  {
   "cell_type": "markdown",
   "metadata": {},
   "source": [
    "Simulatie kunnen we eenvoudig doen met een for-lus."
   ]
  },
  {
   "cell_type": "code",
   "execution_count": null,
   "metadata": {
    "scrolled": true
   },
   "outputs": [],
   "source": [
    "x = x0\n",
    "for t in range(6):  # 5 tijdstappen (python begint vanaf 0 te tellen)\n",
    "    print(\"Tijdstip \",t, \": \", x.count(\"I\"), \"geinfecteerden, x =\",x)\n",
    "    x = update(A, x)   # matrix-vector vermenidgvuldiging verspreidt de ziekte"
   ]
  },
  {
   "cell_type": "markdown",
   "metadata": {},
   "source": [
    "> **Optionele programmmeeropdracht**: Kan je het model aanpassen zodat persoon 2 en 3 resistent zijn? Pas hiervoor de functie `update` aan.\n",
    "> Pas daarna de code aan om hetvoorbeeldnetwerk van de nota's te simuleren."
   ]
  },
  {
   "cell_type": "code",
   "execution_count": null,
   "metadata": {},
   "outputs": [],
   "source": []
  }
 ],
 "metadata": {
  "kernelspec": {
   "display_name": "Python 3",
   "language": "python",
   "name": "python3"
  },
  "language_info": {
   "codemirror_mode": {
    "name": "ipython",
    "version": 3
   },
   "file_extension": ".py",
   "mimetype": "text/x-python",
   "name": "python",
   "nbconvert_exporter": "python",
   "pygments_lexer": "ipython3",
   "version": "3.6.5"
  }
 },
 "nbformat": 4,
 "nbformat_minor": 2
}
