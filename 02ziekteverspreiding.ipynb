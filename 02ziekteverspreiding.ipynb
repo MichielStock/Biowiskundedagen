{
 "cells": [
  {
   "cell_type": "code",
   "execution_count": null,
   "metadata": {},
   "outputs": [],
   "source": [
    "from projectcode.ziekteverspreiding import simuleer_uitbraak\n",
    "from ipywidgets import interact_manual, IntSlider, FloatSlider, \n",
    "# onderstaande regel zorgt dat de figuren in de notebook komen te staan\n",
    "%matplotlib inline "
   ]
  },
  {
   "cell_type": "code",
   "execution_count": null,
   "metadata": {},
   "outputs": [],
   "source": [
    "interact_manual(simuleer_uitbraak,\n",
    "                n=IntSlider(min=15, max=1000, step=5, value=15),\n",
    "                initgeinf=IntSlider(min=1, max=10, step=1, value=1),\n",
    "                netwerk=[\"willekeurig\", \"schaalvrij\"],\n",
    "                fractie_gevac=FloatSlider(min=0, max=0.9, step=0.05, value=0),\n",
    "                strategie=[\"willekeurig\", \"best connecteerd\"]\n",
    "               )"
   ]
  },
  {
   "cell_type": "code",
   "execution_count": null,
   "metadata": {},
   "outputs": [],
   "source": [
    "set(range(10))"
   ]
  },
  {
   "cell_type": "code",
   "execution_count": null,
   "metadata": {},
   "outputs": [],
   "source": []
  }
 ],
 "metadata": {
  "kernelspec": {
   "display_name": "Python 3",
   "language": "python",
   "name": "python3"
  },
  "language_info": {
   "codemirror_mode": {
    "name": "ipython",
    "version": 3
   },
   "file_extension": ".py",
   "mimetype": "text/x-python",
   "name": "python",
   "nbconvert_exporter": "python",
   "pygments_lexer": "ipython3",
   "version": "3.6.5"
  }
 },
 "nbformat": 4,
 "nbformat_minor": 2
}
